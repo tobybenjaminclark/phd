{
 "cells": [
  {
   "metadata": {
    "collapsed": true
   },
   "cell_type": "markdown",
   "source": [
    "## Window Theorem (3)\n",
    "\n",
    "For two separation-identical aircraft $i$ and $j$ where $r_i \\le r_j$ and $lt_i \\le lt_j$, a *complete-order* can be inferred such that $i$ should precede $j$. Since an aircraft can always be delayed to meet the start of its hard time window, and $t_x \\le t'_x$ for all aircraft in corresponding positions of sequences $s$ and $s'$, any time-window violation is no worse in $s$ than in $s'$. Hence, sequencing $i$ before $j$ cannot increase the number or severity of hard time-window violations. Firstly, we import (relevant) libraries, and initialise a `Solver` instance.\n"
   ],
   "id": "bf11dcf07d9b552b"
  },
  {
   "metadata": {
    "ExecuteTime": {
     "end_time": "2025-10-24T11:06:56.021553Z",
     "start_time": "2025-10-24T11:06:55.909502Z"
    }
   },
   "cell_type": "code",
   "source": [
    "from z3 import *\n",
    "from itertools import product\n",
    "from functools import reduce\n",
    "\n",
    "s = Solver()\n"
   ],
   "id": "528fc4d62b9ecd9d",
   "outputs": [],
   "execution_count": 22
  },
  {
   "metadata": {
    "ExecuteTime": {
     "end_time": "2025-10-24T10:39:15.897129Z",
     "start_time": "2025-10-24T10:39:15.812653Z"
    }
   },
   "cell_type": "markdown",
   "source": "Then, define some variables",
   "id": "10b33b38824f07d7"
  },
  {
   "metadata": {
    "ExecuteTime": {
     "end_time": "2025-10-24T11:06:56.074949Z",
     "start_time": "2025-10-24T11:06:56.034724Z"
    }
   },
   "cell_type": "code",
   "source": [
    "\n",
    "# Introduce aircraft sequence {p1, i, p2, j, p3}\n",
    "p1, i, p2, j, p3 = Ints('p1 i p2 j p3')\n",
    "aircraft = [p1, i, p2, j, p3]\n",
    "\n",
    "# Define some mappings for R (release time) LT (end of time window) and δ (minimum separation)\n",
    "R  = {ac: Real(f\"R_{ac}\")  for ac in aircraft}\n",
    "LT = {ac: Real(f\"LT_{ac}\") for ac in aircraft}\n",
    "δ   = {(x, y): Real(f\"δ_{x}_{y}\") for x, y in product(aircraft, aircraft)}\n"
   ],
   "id": "58d619cbcc7b2bf6",
   "outputs": [],
   "execution_count": 23
  },
  {
   "metadata": {
    "ExecuteTime": {
     "end_time": "2025-10-24T10:39:15.897129Z",
     "start_time": "2025-10-24T10:39:15.812653Z"
    }
   },
   "cell_type": "markdown",
   "source": "# Constraints\n",
   "id": "51dde35fa2b49c83"
  },
  {
   "metadata": {
    "ExecuteTime": {
     "end_time": "2025-10-24T11:06:56.157373Z",
     "start_time": "2025-10-24T11:06:56.118634Z"
    }
   },
   "cell_type": "code",
   "source": [
    "\n",
    "# Each aircraft ID should be unique ∀(x, y) ∈ S × S, x ≠ y\n",
    "s.add(Distinct(*aircraft))\n",
    "\n",
    "\n",
    "\n",
    "# R & LT are non-negative real numbers.\n",
    "for x in aircraft:\n",
    "    s.add(R[x] > 0, LT[x] > 0)\n",
    "\n",
    "\n",
    "\n",
    "# δ maps into a non-negative codomain.\n",
    "for (x, y) in product(aircraft, aircraft):\n",
    "    s.add(δ[x, y] >= 0)\n",
    "    if x == y:\n",
    "        s.add(δ[x, y] == 0)\n",
    "\n",
    "\n",
    "\n",
    "# δ-identical i/j\n",
    "for x in aircraft:\n",
    "    s.add(δ[i, x] == δ[j, x])\n",
    "    s.add(δ[x, i] == δ[x, j])\n"
   ],
   "id": "dceb5a91d0f29236",
   "outputs": [],
   "execution_count": 24
  },
  {
   "metadata": {},
   "cell_type": "markdown",
   "source": "# Symbolic Max\n",
   "id": "8830c71e2732ecf4"
  },
  {
   "metadata": {
    "ExecuteTime": {
     "end_time": "2025-10-24T11:06:56.222830Z",
     "start_time": "2025-10-24T11:06:56.215588Z"
    }
   },
   "cell_type": "code",
   "source": [
    "\n",
    "# helper (symbolic max)\n",
    "def zmax(x, y): return If(x >= y, x, y)\n",
    "def zmax_list(xs): return reduce(lambda a, b: zmax(a, b), xs)\n",
    "\n",
    "def compute_T(seq):\n",
    "    T = {seq[0]: R[seq[0]]}\n",
    "    for k in range(1, len(seq)):\n",
    "        preds = seq[:k]\n",
    "        T[seq[k]] = zmax(R[seq[k]],\n",
    "                         zmax_list([T[p] + δ[p, seq[k]] for p in preds]))\n",
    "    return T\n",
    "\n"
   ],
   "id": "c637aab4647d5557",
   "outputs": [],
   "execution_count": 25
  },
  {
   "metadata": {
    "ExecuteTime": {
     "end_time": "2025-10-24T10:55:28.277491Z",
     "start_time": "2025-10-24T10:55:28.273326Z"
    }
   },
   "cell_type": "markdown",
   "source": "# Window Violations",
   "id": "108d3a08182deb56"
  },
  {
   "metadata": {
    "ExecuteTime": {
     "end_time": "2025-10-24T11:06:56.272685Z",
     "start_time": "2025-10-24T11:06:56.251751Z"
    }
   },
   "cell_type": "code",
   "source": [
    "\n",
    "def window_violations(T):\n",
    "    return Sum([If(T[a] > LT[a], 1, 0) for a in aircraft])\n"
   ],
   "id": "8a23d8b5a2915f6b",
   "outputs": [],
   "execution_count": 26
  },
  {
   "metadata": {
    "ExecuteTime": {
     "end_time": "2025-10-24T10:55:28.309861Z",
     "start_time": "2025-10-24T10:55:28.295367Z"
    }
   },
   "cell_type": "markdown",
   "source": "# Encode Preconditions",
   "id": "8dd0afebcfd955"
  },
  {
   "metadata": {
    "ExecuteTime": {
     "end_time": "2025-10-24T11:06:56.343763Z",
     "start_time": "2025-10-24T11:06:56.322316Z"
    }
   },
   "cell_type": "code",
   "source": [
    "\n",
    "# encode s and s'\n",
    "S       = [p1, i, p2, j, p3]\n",
    "S_prime = [p1, j, p2, i, p3]\n",
    "\n",
    "T       = compute_T(S)\n",
    "T_prime = compute_T(S_prime)\n",
    "\n",
    "WV      = window_violations(T)\n",
    "WV_p    = window_violations(T_prime)\n",
    "\n",
    "\n",
    "\n",
    "# theorem assumptions\n",
    "s.add(R[i] < R[j])\n",
    "s.add(LT[i] < LT[j])\n",
    "\n",
    "\n",
    "\n",
    "# S' Is feasible\n",
    "for ac in aircraft:\n",
    "    s.add(T_prime[ac] < LT[ac])\n",
    "\n",
    "\n",
    "\n",
    "# hypothesis\n",
    "s.add(WV > WV_p)\n"
   ],
   "id": "872588ac71c9a1e9",
   "outputs": [],
   "execution_count": 27
  },
  {
   "metadata": {
    "ExecuteTime": {
     "end_time": "2025-10-24T10:55:28.399458Z",
     "start_time": "2025-10-24T10:55:28.334663Z"
    }
   },
   "cell_type": "markdown",
   "source": "# Check Solver",
   "id": "8d084672cf44b1f4"
  },
  {
   "metadata": {
    "ExecuteTime": {
     "end_time": "2025-10-24T11:06:56.418420Z",
     "start_time": "2025-10-24T11:06:56.367550Z"
    }
   },
   "cell_type": "code",
   "source": [
    "\n",
    "if s.check() == z3.sat:\n",
    "    model = s.model()\n",
    "    print(\"\\nTheorem holds SAT (counterexample found).\\nModel:\")\n",
    "    for d in model.decls():\n",
    "        print(f\" - {d.name()} = {model[d]}\")\n",
    "elif s.check() == z3.unsat:\n",
    "    print(\"\\nUNSAT — Theorem 3 holds: a before b cannot worsen hard-window compliance if s' is feasible.\")\n"
   ],
   "id": "59d72b79cdf9fe2c",
   "outputs": [
    {
     "name": "stdout",
     "output_type": "stream",
     "text": [
      "\n",
      "UNSAT — Theorem 3 holds: a before b cannot worsen hard-window compliance if s' is feasible.\n"
     ]
    }
   ],
   "execution_count": 28
  }
 ],
 "metadata": {
  "kernelspec": {
   "display_name": "Python 3",
   "language": "python",
   "name": "python3"
  },
  "language_info": {
   "codemirror_mode": {
    "name": "ipython",
    "version": 2
   },
   "file_extension": ".py",
   "mimetype": "text/x-python",
   "name": "python",
   "nbconvert_exporter": "python",
   "pygments_lexer": "ipython2",
   "version": "2.7.6"
  }
 },
 "nbformat": 4,
 "nbformat_minor": 5
}
