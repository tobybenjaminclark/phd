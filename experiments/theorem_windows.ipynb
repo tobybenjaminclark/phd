{
 "cells": [
  {
   "metadata": {
    "collapsed": true
   },
   "cell_type": "markdown",
   "source": [
    "## Window Theorem (3)\n",
    "\n",
    "For two separation-identical aircraft $i$ and $j$ where $r_i \\le r_j$ and $lt_i \\le lt_j$, a *complete-order* can be inferred such that $i$ should precede $j$. Since an aircraft can always be delayed to meet the start of its hard time window, and $t_x \\le t'_x$ for all aircraft in corresponding positions of sequences $s$ and $s'$, any time-window violation is no worse in $s$ than in $s'$. Hence, sequencing $i$ before $j$ cannot increase the number or severity of hard time-window violations.\n"
   ],
   "id": "bf11dcf07d9b552b"
  },
  {
   "metadata": {
    "ExecuteTime": {
     "end_time": "2025-10-20T15:14:47.443431Z",
     "start_time": "2025-10-20T15:14:47.411539Z"
    }
   },
   "cell_type": "code",
   "source": [
    "\n",
    "from z3 import *\n",
    "from itertools import product\n",
    "\n",
    "s = Solver()\n",
    "\n",
    "\n",
    "δ  = Function('δ', IntSort(), IntSort(), RealSort())\n",
    "R  = Function('R', IntSort(), RealSort())\n",
    "LT = Function('LT', IntSort(), RealSort())\n",
    "\n",
    "p1, a, p2, b, p3 = Ints('p1 a p2 b p3')\n",
    "ac = [p1, a, p2, b, p3]\n",
    "\n",
    "x, y = Ints('x y')\n",
    "\n",
    "s.add(Distinct(*ac))\n",
    "\n",
    "s.add(ForAll([x], R(x) >= 0))\n",
    "s.add(ForAll([x], LT(x) >= 0))\n",
    "s.add(ForAll([x, y], δ(x, y) >= 0))\n",
    "\n",
    "# δ-identical a/b\n",
    "for x_ in ac:\n",
    "    s.add(δ(a, x_) == δ(b, x_))\n",
    "    s.add(δ(x_, a) == δ(x_, b))\n",
    "\n",
    "def zmax(x, y): return If(x >= y, x, y)\n",
    "\n",
    "def zmax_list(xs):\n",
    "    m = xs[0]\n",
    "    for x in xs[1:]:\n",
    "        m = If(x >= m, x, m)\n",
    "    return m\n",
    "\n",
    "\n",
    "def compute_T(seq):\n",
    "    T = {seq[0]: R(seq[0])}\n",
    "    for i in range(1, len(seq)):\n",
    "        preds = seq[:i]\n",
    "        T[seq[i]] = zmax(R(seq[i]), zmax_list([T[x] + δ(x, seq[i]) for x in preds]))\n",
    "    return T\n",
    "\n",
    "\n",
    "S1 = [p1, a, p2, b, p3]\n",
    "S2 = [p1, b, p2, a, p3]\n",
    "\n",
    "T1 = compute_T(S1)\n",
    "T2 = compute_T(S2)\n",
    "\n",
    "s.add(R(a) <= R(b))\n",
    "s.add(LT(a) <= LT(b))\n",
    "\n",
    "def violation(Tx, LTx):  # 1 if Tx > LTx, else 0\n",
    "    return If(Tx > LTx, 1, 0)\n",
    "\n",
    "ac_ = [p1, p2, p3]\n",
    "viol_S1 = Sum([violation(T1[x], LT(x)) for x in ac_])\n",
    "viol_S2 = Sum([violation(T2[x], LT(x)) for x in ac_])\n",
    "\n",
    "s.add(viol_S2 < viol_S1)\n",
    "\n",
    "print(\"Checking counterexample to Theorem 3 (hard time windows)...\")\n",
    "res = s.check()\n",
    "print(res)\n",
    "\n",
    "if res == sat:\n",
    "    print(\"\\nCounterexample found (would disprove rule):\")\n",
    "    m = s.model()\n",
    "    for d in m.decls():\n",
    "        print(f\"{d.name()} = {m[d]}\".replace(\"-1\", \"p1\").replace(\"-2\", \"a\").replace(\"-3\", \"p2\").replace(\"-4\", \"b\").replace(\"-5\", \"p3\"))\n",
    "else:\n",
    "    print(\"\\nUNSAT — Theorem 3 holds: a before b cannot worsen hard-window compliance.\")"
   ],
   "id": "528fc4d62b9ecd9d",
   "outputs": [
    {
     "name": "stdout",
     "output_type": "stream",
     "text": [
      "Checking counterexample to Theorem 3 (hard time windows)...\n",
      "unsat\n",
      "\n",
      "UNSAT — Theorem 3 holds: a before b cannot worsen hard-window compliance.\n"
     ]
    }
   ],
   "execution_count": 4
  }
 ],
 "metadata": {
  "kernelspec": {
   "display_name": "Python 3",
   "language": "python",
   "name": "python3"
  },
  "language_info": {
   "codemirror_mode": {
    "name": "ipython",
    "version": 2
   },
   "file_extension": ".py",
   "mimetype": "text/x-python",
   "name": "python",
   "nbconvert_exporter": "python",
   "pygments_lexer": "ipython2",
   "version": "2.7.6"
  }
 },
 "nbformat": 4,
 "nbformat_minor": 5
}
