{
 "cells": [
  {
   "metadata": {
    "collapsed": true
   },
   "cell_type": "markdown",
   "source": [
    "## Makespan Theorem (1)\n",
    "An objective to minimize makespan can be considered to induce a complete order upon two separation identical aircraft $i$ and $j$ if $r_i \\leq r_j$. That is, the makespan of any partial sequence $s$, which schedules aircraft $i$ before aircraft $j$ will result in a makespan no worse than in $s\\prime$ (schedulling $j$ after $i$); therefore aircraft $i$ should always be scheduled before aircraft $j$. Firstly, import Z3 Theorem Prover and the itertools library and instantiate a Solver instance.\n"
   ],
   "id": "5a509cd02d485bc0"
  },
  {
   "metadata": {
    "ExecuteTime": {
     "end_time": "2025-10-16T12:15:46.441758Z",
     "start_time": "2025-10-16T12:15:46.437468Z"
    }
   },
   "cell_type": "code",
   "source": [
    "from z3 import *\n",
    "\n",
    "s = Solver()"
   ],
   "id": "bda4512d8063f37f",
   "outputs": [],
   "execution_count": 6
  },
  {
   "metadata": {},
   "cell_type": "markdown",
   "source": [
    "Then, we define the following:\n",
    "- $\\delta \\in \\mathbb{Z} \\to \\mathbb{Z} \\to \\mathbb{R}$\n",
    "- $r_i \\in \\mathbb{Z} \\to \\mathbb{R}$\n",
    "- $S = \\{p_1,\\ a,\\ p_2,\\ b,\\ p_3\\}$\n",
    "\n",
    "then\n",
    "1. Non-negativity of release times / $r_x$:\n",
    "$$ r_x \\geq 0 \\quad \\forall x \\in S $$\n",
    "\n",
    "2. Non-negativity of $\\delta$\n",
    "$$ \\delta(x, y) \\geq 0 \\quad \\forall x \\in (S \\times S) $$\n",
    "\n",
    "3. Identical separations between `a` and `b` $\\delta_a = \\delta_b$\n",
    "$$ \\delta(a, x) = \\delta(b, x) \\wedge \\delta(x, a) = \\delta(x, b) \\quad \\forall x \\in S $$\n"
   ],
   "id": "ef9d15b372505a58"
  },
  {
   "metadata": {
    "ExecuteTime": {
     "end_time": "2025-10-16T12:15:46.452836Z",
     "start_time": "2025-10-16T12:15:46.446138Z"
    }
   },
   "cell_type": "code",
   "source": [
    "# Functions\n",
    "δ = Function('δ', IntSort(), IntSort(), RealSort())\n",
    "R = Function('R', IntSort(), RealSort())\n",
    "\n",
    "\n",
    "# Aircraft symbols\n",
    "p1, a, p2, b, p3 = Ints('p1 a p2 b p3')\n",
    "ac = [p1, a, p2, b, p3]\n",
    "\n",
    "\n",
    "# Basic constraints\n",
    "s.add(ForAll([a], R(a) >= 0))\n",
    "s.add(ForAll([a, b], δ(a, b) >= 0))\n",
    "\n",
    "# a and b are δ-identical\n",
    "for x in ac:\n",
    "    s.add(δ(a, x) == δ(b, x))  # outgoing\n",
    "    s.add(δ(x, a) == δ(x, b))  # incoming\n",
    "\n",
    "\n"
   ],
   "id": "9d288565078e0ece",
   "outputs": [],
   "execution_count": 7
  },
  {
   "metadata": {},
   "cell_type": "markdown",
   "source": "Then define some helper functions to encode a $max$ function symbolically. Define a recursive function to compute a symbolic takeoff time for a given sequence.",
   "id": "64319d2a13e83d71"
  },
  {
   "metadata": {
    "ExecuteTime": {
     "end_time": "2025-10-16T12:15:46.459609Z",
     "start_time": "2025-10-16T12:15:46.456456Z"
    }
   },
   "cell_type": "code",
   "source": [
    "\n",
    "# Helper symbolic max functions\n",
    "def zmax(x, y): return If(x >= y, x, y)\n",
    "def zmax_list(xs):\n",
    "    if not xs:\n",
    "        raise ValueError(\"zmax_list requires at least one element\")\n",
    "    m = xs[0]\n",
    "    for x in xs[1:]:\n",
    "        m = If(x >= m, x, m)\n",
    "    return m\n",
    "\n",
    "# Compute symbolic takeoff time given a sequence\n",
    "def compute_T(seq):\n",
    "    T = {}\n",
    "    T[seq[0]] = R(seq[0])\n",
    "    for i in range(1, len(seq)):\n",
    "        preds = seq[:i]\n",
    "        T[seq[i]] = zmax(R(seq[i]),\n",
    "                         zmax_list([T[x] + δ(x, seq[i]) for x in preds])\n",
    "        )\n",
    "    return T"
   ],
   "id": "591b8e6217976517",
   "outputs": [],
   "execution_count": 8
  },
  {
   "metadata": {
    "ExecuteTime": {
     "end_time": "2025-10-14T20:00:30.586332Z",
     "start_time": "2025-10-14T20:00:30.538311Z"
    }
   },
   "cell_type": "markdown",
   "source": [
    "Define $s$ and $s'$ as sample sequences, in this $p_1, p_2, p_3$ represent subsequences (but represented as a singular aircraft). These needs some verification.\n",
    "\n",
    "\n",
    "$$ s = \\{ p_1,\\ a,\\ p_2,\\ b,\\ p_3 \\} $$\n",
    "$$ s' = \\{ p_1,\\ b,\\ p_2,\\ a,\\ p_3 \\} $$\n",
    "\n",
    "Then we define makespan of $s$ ($m$) and makespan of $s'$ ($m'$) as the takeoff time of $p_3$, or $T(p_3)$. In the paper, the pruning rule is also dependent on:\n",
    "\n",
    "$$ r_a \\leq r_b $$\n",
    "\n",
    "so this is added as a constraint. Lastly, $m > m'$ is added as a constraint as the unsat case.\n"
   ],
   "id": "427b702f9f1ed79a"
  },
  {
   "metadata": {
    "ExecuteTime": {
     "end_time": "2025-10-16T12:15:46.472131Z",
     "start_time": "2025-10-16T12:15:46.465494Z"
    }
   },
   "cell_type": "code",
   "source": [
    "# Sequences\n",
    "S1 = [p1, a, p2, b, p3]\n",
    "S2 = [p1, b, p2, a, p3]\n",
    "\n",
    "T1 = compute_T(S1)\n",
    "T2 = compute_T(S2)\n",
    "\n",
    "# Compare makespans (symbolically)\n",
    "m = T1[S1[-1]]\n",
    "m_ = T2[S2[-1]]\n",
    "\n",
    "# Release time of plane A is less than release time of plane B\n",
    "s.add(R(a) <= R(b))\n",
    "\n",
    "# Theorem: makespan of a, b always less than, or equal to, makespan of b, a (find a counter example)\n",
    "s.add(m > m_)\n"
   ],
   "id": "509521bc12cbde04",
   "outputs": [],
   "execution_count": 9
  },
  {
   "metadata": {},
   "cell_type": "markdown",
   "source": "Check the theorem prover",
   "id": "593800ae17b96ac3"
  },
  {
   "metadata": {
    "ExecuteTime": {
     "end_time": "2025-10-16T12:15:46.511853Z",
     "start_time": "2025-10-16T12:15:46.476534Z"
    }
   },
   "cell_type": "code",
   "source": [
    "if s.check() == z3.sat:\n",
    "    model = s.model()\n",
    "    print(\"\\nTheorem holds SAT (counterexample found).\\nModel:\")\n",
    "    for d in model.decls():\n",
    "        print(f\" - {d.name()} = {model[d]}\")\n",
    "elif s.check() == z3.unsat:\n",
    "    print(\"\\nTheorem holds: UNSAT (no counterexample found)\")"
   ],
   "id": "d51b242dcfb97e7b",
   "outputs": [
    {
     "name": "stdout",
     "output_type": "stream",
     "text": [
      "\n",
      "Theorem holds: UNSAT (no counterexample found)\n"
     ]
    }
   ],
   "execution_count": 10
  }
 ],
 "metadata": {
  "kernelspec": {
   "display_name": "Python 3",
   "language": "python",
   "name": "python3"
  },
  "language_info": {
   "codemirror_mode": {
    "name": "ipython",
    "version": 2
   },
   "file_extension": ".py",
   "mimetype": "text/x-python",
   "name": "python",
   "nbconvert_exporter": "python",
   "pygments_lexer": "ipython2",
   "version": "2.7.6"
  }
 },
 "nbformat": 4,
 "nbformat_minor": 5
}
