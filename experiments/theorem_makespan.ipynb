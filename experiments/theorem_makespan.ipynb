{
 "cells": [
  {
   "metadata": {
    "collapsed": true
   },
   "cell_type": "markdown",
   "source": [
    "## Makespan Theorem (1)\n",
    "An objective to minimize makespan can be considered to induce a complete order upon two separation identical aircraft $i$ and $j$ if $r_i \\leq r_j$. That is, the makespan of any partial sequence $s$, which schedules aircraft $i$ before aircraft $j$ will result in a makespan no worse than in $s\\prime$ (schedulling $j$ after $i$); therefore aircraft $i$ should always be scheduled before aircraft $j$. Firstly, import Z3 Theorem Prover and the itertools library and instantiate a Solver instance.\n"
   ],
   "id": "5a509cd02d485bc0"
  },
  {
   "metadata": {
    "ExecuteTime": {
     "end_time": "2025-10-14T15:50:33.761194Z",
     "start_time": "2025-10-14T15:50:33.643486Z"
    }
   },
   "cell_type": "code",
   "source": [
    "from z3 import *\n",
    "import itertools\n",
    "\n",
    "s = Solver()"
   ],
   "id": "bda4512d8063f37f",
   "outputs": [
    {
     "name": "stdout",
     "output_type": "stream",
     "text": [
      "Checking if S1 has a worse makespan than S2:\n",
      "unsat\n"
     ]
    }
   ],
   "execution_count": 1
  },
  {
   "metadata": {},
   "cell_type": "markdown",
   "source": [
    "Then, we define the following:\n",
    "- $\\delta \\in \\mathbb{Z} \\to \\mathbb{Z} \\to \\mathbb{R}$\n",
    "- $r_i \\in \\mathbb{Z} \\to \\mathbb{R}$\n",
    "- $S = \\{p_1,\\ a,\\ p_2,\\ b,\\ p_3\\}$\n",
    "\n",
    "then\n",
    "$$ r_x \\geq 0 \\quad \\forall x \\in S $$\n",
    "$$ \\delta(x, y) \\geq 0 \\quad \\forall x \\in (S \\times S) $$\n",
    "$$ \\delta(a, x) = \\delta(b, x) \\wedge \\delta(x, a) = \\delta(x, b) \\quad \\forall x \\in S $$\n"
   ],
   "id": "ef9d15b372505a58"
  },
  {
   "metadata": {
    "ExecuteTime": {
     "end_time": "2025-10-14T16:02:37.377642Z",
     "start_time": "2025-10-14T16:02:37.329472Z"
    }
   },
   "cell_type": "code",
   "source": [
    "# Functions\n",
    "δ = Function('δ', IntSort(), IntSort(), RealSort())\n",
    "R = Function('R', IntSort(), RealSort())\n",
    "\n",
    "\n",
    "# Aircraft symbols\n",
    "p1, a, p2, b, p3 = Ints('p1 a p2 b p3')\n",
    "ac = [p1, a, p2, b, p3]\n",
    "\n",
    "# Basic constraints\n",
    "for x in ac: s.add(R(x) >= 0)\n",
    "\n",
    "for (x, y) in itertools.product(ac, ac):\n",
    "    s.add(δ(x, y) >= 0)\n",
    "\n",
    "# a and b are δ-identical\n",
    "for x in ac:\n",
    "    s.add(δ(a, x) == δ(b, x))\n",
    "    s.add(δ(x, a) == δ(x, b))"
   ],
   "id": "9d288565078e0ece",
   "outputs": [
    {
     "name": "stdout",
     "output_type": "stream",
     "text": [
      "Checking if S1 has a worse makespan than S2:\n",
      "unsat\n"
     ]
    }
   ],
   "execution_count": 3
  },
  {
   "metadata": {},
   "cell_type": "markdown",
   "source": "Then define some helper functions to encode a `max` function symbolically.",
   "id": "64319d2a13e83d71"
  },
  {
   "metadata": {
    "ExecuteTime": {
     "end_time": "2025-10-14T16:04:39.486308Z",
     "start_time": "2025-10-14T16:04:39.463476Z"
    }
   },
   "cell_type": "code",
   "source": [
    "\n",
    "# Helper max functions\n",
    "def zmax(x, y): return If(x >= y, x, y)\n",
    "def zmax_list(xs):\n",
    "    if not xs:\n",
    "        raise ValueError(\"zmax_list requires at least one element\")\n",
    "    m = xs[0]\n",
    "    for x in xs[1:]:\n",
    "        m = If(x >= m, x, m)\n",
    "    return m\n",
    "\n",
    "# Sequences\n",
    "S1 = [p1, a, p2, b, p3]\n",
    "S2 = [p1, b, p2, a, p3]\n",
    "\n",
    "# Compute T_i symbolically given a sequence\n",
    "def compute_T(seq):\n",
    "    T = {}\n",
    "    T[seq[0]] = R(seq[0])\n",
    "    for i in range(1, len(seq)):\n",
    "        preds = seq[:i]\n",
    "        T[seq[i]] = zmax(R(seq[i]),\n",
    "                         zmax_list([T[x] + δ(x, seq[i]) for x in preds]))\n",
    "    return T\n",
    "\n",
    "T1 = compute_T(S1)\n",
    "T2 = compute_T(S2)\n",
    "\n",
    "# Compare makespans (symbolically)\n",
    "makespan1 = T1[S1[-1]]\n",
    "makespan2 = T2[S2[-1]]\n",
    "\n",
    "s.add(R(a) <= R(b))\n",
    "# Negate the claim to look for a counterexample:\n",
    "s.add(makespan1 > makespan2)\n",
    "\n",
    "\n",
    "print(\"Checking if S1 has a worse makespan than S2:\")\n",
    "print(s.check())"
   ],
   "id": "591b8e6217976517",
   "outputs": [
    {
     "name": "stdout",
     "output_type": "stream",
     "text": [
      "Checking if S1 has a worse makespan than S2:\n",
      "unsat\n"
     ]
    }
   ],
   "execution_count": 4
  },
  {
   "metadata": {},
   "cell_type": "code",
   "outputs": [],
   "execution_count": null,
   "source": "",
   "id": "509521bc12cbde04"
  }
 ],
 "metadata": {
  "kernelspec": {
   "display_name": "Python 3",
   "language": "python",
   "name": "python3"
  },
  "language_info": {
   "codemirror_mode": {
    "name": "ipython",
    "version": 2
   },
   "file_extension": ".py",
   "mimetype": "text/x-python",
   "name": "python",
   "nbconvert_exporter": "python",
   "pygments_lexer": "ipython2",
   "version": "2.7.6"
  }
 },
 "nbformat": 4,
 "nbformat_minor": 5
}
