{
 "cells": [
  {
   "metadata": {
    "collapsed": true
   },
   "cell_type": "markdown",
   "source": [
    "## Delay Theorem (2)\n",
    "An objective to minimize the cost for delay can be considered to induce a complete order upon two separation-identical aircraft $i$ and $j$ where\n",
    "$b_i \\leq b_j$ and $r_i \\leq r_j$.\n",
    "\n"
   ],
   "id": "5a509cd02d485bc0"
  },
  {
   "metadata": {
    "ExecuteTime": {
     "end_time": "2025-10-20T14:07:18.413061Z",
     "start_time": "2025-10-20T14:07:18.352810Z"
    }
   },
   "cell_type": "code",
   "source": [
    "from z3 import *\n",
    "s = Solver()\n"
   ],
   "id": "bda4512d8063f37f",
   "outputs": [],
   "execution_count": 1
  },
  {
   "metadata": {},
   "cell_type": "markdown",
   "source": [
    "Then, we define the following:\n",
    "- $\\delta \\in \\mathbb{Z} \\to \\mathbb{Z} \\to \\mathbb{R}$ (separation-matrix)\n",
    "- $r_i \\in \\mathbb{Z} \\to \\mathbb{R}$ (release time)\n",
    "- $b_i \\in \\mathbb{Z} \\to \\mathbb{R}$ (base time)\n",
    "\n",
    "then\n",
    "1. Non-negativity of release times / $r_x$:\n",
    "$$ r_x \\geq 0 \\quad \\forall x \\in S $$\n",
    "\n",
    "2. Non-negativity of base times / $b_i$\n",
    "$$ b_x \\geq 0 \\quad \\forall x \\in S $$\n",
    "\n",
    "3. Non-negativity of $\\delta$\n",
    "$$ \\delta(x, y) \\geq 0 \\quad \\forall x \\in (S \\times S) $$\n",
    "\n",
    "4. Identical separations between `a` and `b` $\\delta_a = \\delta_b$\n",
    "$$ \\delta(a, x) = \\delta(b, x) \\wedge \\delta(x, a) = \\delta(x, b) \\quad \\forall x \\in S $$\n"
   ],
   "id": "c8658ef9452d37f"
  },
  {
   "metadata": {
    "ExecuteTime": {
     "end_time": "2025-10-20T14:07:18.449832Z",
     "start_time": "2025-10-20T14:07:18.426112Z"
    }
   },
   "cell_type": "code",
   "source": [
    "\n",
    "δ = Function('δ', IntSort(), IntSort(), RealSort())\n",
    "R = Function('R', IntSort(), RealSort())\n",
    "B = Function('B', IntSort(), RealSort())\n",
    "\n",
    "# --- aircraft etc as before ---\n",
    "p1, a, p2, b, p3 = Ints('p1 a p2 b p3')\n",
    "ac = [p1, a, p2, b, p3]\n",
    "\n",
    "x, y = Ints('x y')\n",
    "s.add(ForAll([x], R(x) >= 0))\n",
    "s.add(ForAll([x], B(x) >= 0))\n",
    "s.add(ForAll([x], R(x) >= B(x)))\n",
    "s.add(ForAll([x, y], δ(x, y) >= 0))\n",
    "\n",
    "# δ-identical a/b\n",
    "for x_ in ac:\n",
    "    s.add(δ(a, x_) == δ(b, x_))\n",
    "    s.add(δ(x_, a) == δ(x_, b))\n",
    "\n"
   ],
   "id": "9bcd6f6cb15ea273",
   "outputs": [],
   "execution_count": 2
  },
  {
   "metadata": {},
   "cell_type": "markdown",
   "source": [
    "In the original objective function, costs are raised to an equity variable $\\alpha$, which is conflicts with the decidability of SMT logic. Instead, we pose $\\alpha$ as an uninterpreted, strictly monotonic function, filling the same role as the original exponentiation but in an SMT decidable way.\n",
    "\n",
    "$$ x \\leq y \\implies \\alpha (x) < \\alpha (y) \\quad \\forall x,\\ y \\in \\mathbb{R} $$\n",
    "$$ x \\geq 0 \\implies \\alpha (x) \\geq 0 \\quad \\forall x \\in \\mathbb{R} $$\n",
    "$$ α(0) == 1 $$\n"
   ],
   "id": "db1e049ce42f89be"
  },
  {
   "metadata": {
    "ExecuteTime": {
     "end_time": "2025-10-20T14:07:18.463465Z",
     "start_time": "2025-10-20T14:07:18.459127Z"
    }
   },
   "cell_type": "code",
   "source": [
    "\"\"\"\n",
    "α = Function('f', RealSort(), RealSort())\n",
    "\n",
    "# Monotonic and non-negative\n",
    "x, y = Reals('x y')\n",
    "s.add(ForAll([x, y], Implies(x < y, α(x) < α(y))))\n",
    "s.add(ForAll(x, Implies(x >= 0, α(x) >= 0)))\n",
    "s.add(α(0) == 1)\n",
    "\"\"\""
   ],
   "id": "498934480527aa2d",
   "outputs": [
    {
     "data": {
      "text/plain": [
       "\"\\nα = Function('f', RealSort(), RealSort())\\n\\n# Monotonic and non-negative\\nx, y = Reals('x y')\\ns.add(ForAll([x, y], Implies(x < y, α(x) < α(y))))\\ns.add(ForAll(x, Implies(x >= 0, α(x) >= 0)))\\ns.add(α(0) == 1)\\n\""
      ]
     },
     "execution_count": 3,
     "metadata": {},
     "output_type": "execute_result"
    }
   ],
   "execution_count": 3
  },
  {
   "metadata": {},
   "cell_type": "markdown",
   "source": "Then define some helper functions to encode a $max$ function symbolically. Define a recursive function to compute a symbolic takeoff time for a given sequence.",
   "id": "ec9812f9c956b834"
  },
  {
   "metadata": {
    "ExecuteTime": {
     "end_time": "2025-10-20T14:07:18.492750Z",
     "start_time": "2025-10-20T14:07:18.489046Z"
    }
   },
   "cell_type": "code",
   "source": [
    "# zmax and T computation\n",
    "def zmax(x, y): return If(x >= y, x, y)\n",
    "def zmax_list(xs):\n",
    "    m = xs[0]\n",
    "    for x in xs[1:]:\n",
    "        m = If(x >= m, x, m)\n",
    "    return m\n",
    "\n",
    "def compute_T(seq):\n",
    "    T = {seq[0]: R(seq[0])}\n",
    "    for i in range(1, len(seq)):\n",
    "        preds = seq[:i]\n",
    "        T[seq[i]] = zmax(R(seq[i]), zmax_list([T[x] + δ(x, seq[i]) for x in preds]))\n",
    "    return T\n"
   ],
   "id": "29afca710efc17d7",
   "outputs": [],
   "execution_count": 4
  },
  {
   "metadata": {},
   "cell_type": "markdown",
   "source": "Define sequences where $a$ preceeds $b$ and $b$ preceeds $a$",
   "id": "85816d5e64ed07d3"
  },
  {
   "metadata": {
    "ExecuteTime": {
     "end_time": "2025-10-20T14:07:18.614788Z",
     "start_time": "2025-10-20T14:07:18.515926Z"
    }
   },
   "cell_type": "code",
   "source": [
    "\n",
    "S1, S2 = [p1, a, p2, b, p3], [p1, b, p2, a, p3]\n",
    "T1, T2 = compute_T(S1), compute_T(S2)\n",
    "\n",
    "W1 = Real('W1')\n",
    "s.add(W1 > 0)\n",
    "def delay_cost(T):\n",
    "    return Sum(([W1 * (T[x] - B(x)) for x in ac]))\n",
    "\n",
    "D1, D2 = delay_cost(T1), delay_cost(T2)\n",
    "s.add(R(a) <= R(b), B(a) <= B(b))\n",
    "s.add(D1 > D2)\n",
    "\n",
    "\n",
    "\n",
    "print(s.check())\n",
    "if s.check() == sat:\n",
    "    print(\"\\nCounterexample found:\\n\")\n",
    "    m = s.model()\n",
    "    for d in m.decls():\n",
    "        print(f\"{d.name()} = {m[d]}\")\n",
    "else:\n",
    "    print(\"\\nUNSAT — theorem holds (no counterexample found)\\n\")"
   ],
   "id": "477da63343ec63fa",
   "outputs": [
    {
     "name": "stdout",
     "output_type": "stream",
     "text": [
      "unsat\n",
      "\n",
      "UNSAT — theorem holds (no counterexample found)\n",
      "\n"
     ]
    }
   ],
   "execution_count": 5
  }
 ],
 "metadata": {
  "kernelspec": {
   "display_name": "Python 3",
   "language": "python",
   "name": "python3"
  },
  "language_info": {
   "codemirror_mode": {
    "name": "ipython",
    "version": 2
   },
   "file_extension": ".py",
   "mimetype": "text/x-python",
   "name": "python",
   "nbconvert_exporter": "python",
   "pygments_lexer": "ipython2",
   "version": "2.7.6"
  }
 },
 "nbformat": 4,
 "nbformat_minor": 5
}
