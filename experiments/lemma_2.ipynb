{
 "cells": [
  {
   "metadata": {},
   "cell_type": "markdown",
   "source": [
    "## Lemma 2\n",
    "Given two subsequences $s$ and $s'$ with identical aircraft in the same order, differing only in the takeoff times, if $t_x \\le t'_x$ for all aircraft $x$ in $s$ and $s'$, the violation of an aircraft’s hard time window in $s$ will be no worse than its violation in $s'$, and hence if sequence $s$ is infeasible, so will be sequence $s'$."
   ],
   "id": "61760d3334cfe333"
  },
  {
   "metadata": {
    "collapsed": true,
    "ExecuteTime": {
     "end_time": "2025-10-14T15:16:10.422901Z",
     "start_time": "2025-10-14T15:16:10.411041Z"
    }
   },
   "cell_type": "code",
   "source": [
    "from z3 import *\n",
    "\n",
    "S1  = Array('T', IntSort(), RealSort())   # times in s\n",
    "S2 = Array('Tp', IntSort(), RealSort())  # times in s'\n",
    "L  = Array('L', IntSort(), RealSort())   # latest allowable\n",
    "\n",
    "x = Int('x')\n",
    "s = Solver()\n",
    "\n",
    "# Forall x, T[x] <= Tp[x]\n",
    "hyp_monotonic = ForAll(x, S1[x] <= S2[x])\n",
    "\n",
    "# There exists some x where T[x] > L[x]\n",
    "exists_violation_s = Exists(x, S1[x] > S2[x])\n",
    "\n",
    "# Forall x, Tp[x] <= L[x]\n",
    "feasible_sprime = ForAll(x, S1[x] <= S2[x])\n",
    "\n",
    "s.add(hyp_monotonic)\n",
    "s.add(exists_violation_s)\n",
    "s.add(feasible_sprime)\n",
    "\n",
    "if s.check() == z3.sat:\n",
    "    model = s.model()\n",
    "    print(\"\\nLemma holds SAT (counterexample found).\\nModel:\")\n",
    "    for d in model.decls():\n",
    "        print(f\" - {d.name()} = {model[d]}\")\n",
    "elif s.check() == z3.unsat:\n",
    "    print(\"\\nLemma holds: UNSAT (no counterexample found)\")\n"
   ],
   "id": "af88454e602af966",
   "outputs": [
    {
     "name": "stdout",
     "output_type": "stream",
     "text": [
      "\n",
      "Lemma holds: UNSAT (no counterexample found)\n"
     ]
    }
   ],
   "execution_count": 6
  }
 ],
 "metadata": {
  "kernelspec": {
   "display_name": "Python 3",
   "language": "python",
   "name": "python3"
  },
  "language_info": {
   "codemirror_mode": {
    "name": "ipython",
    "version": 2
   },
   "file_extension": ".py",
   "mimetype": "text/x-python",
   "name": "python",
   "nbconvert_exporter": "python",
   "pygments_lexer": "ipython2",
   "version": "2.7.6"
  }
 },
 "nbformat": 4,
 "nbformat_minor": 5
}
