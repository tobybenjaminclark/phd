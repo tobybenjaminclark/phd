{
 "cells": [
  {
   "metadata": {},
   "cell_type": "markdown",
   "source": [
    "## Lemma 1\n",
    "Given two subsequences $s$ and $s'$ with identical aircraft in the same order, differing only in their take-off times (e.g., due to different aircraft preceding $s$ and $s'$), if $t_x \\le t'_x$ for all aircraft $x \\in s, s'$,\n",
    "then the delay (or CTOT) cost for each individual aircraft in $s$ will be no worse than its delay (or CTOT) cost in $s'$,\n",
    "and the total delay (or CTOT) cost summed over all aircraft in $s$ will be no worse than the total delay (or CTOT) cost summed over all aircraft in $s'$. Initialise Z3 and create a `Solver` instance."
   ],
   "id": "e2908a278070fec5"
  },
  {
   "metadata": {
    "ExecuteTime": {
     "end_time": "2025-10-10T15:13:36.841149Z",
     "start_time": "2025-10-10T15:13:36.804626Z"
    }
   },
   "cell_type": "code",
   "source": [
    "from z3 import *\n",
    "s = Solver()\n"
   ],
   "id": "76342350b7617978",
   "outputs": [],
   "execution_count": 13
  },
  {
   "metadata": {},
   "cell_type": "markdown",
   "source": [
    "First, we define $s: \\mathbb{Z} \\to \\mathbb{R}$ (`S1`) and $s': \\mathbb{Z} \\to \\mathbb{R}$ (`S2`) as arrays. We also define an array to define timeslots, $L_c : \\mathbb{Z} \\to \\mathbb{R}$ (`Lc`). Constant penalty weights ($\\omega_1$ through $\\omega_4$) for CTOT compliance are defined as real numbers.\n",
    "\n",
    "We enforce $\\omega_4 \\geq \\omega_3 \\geq \\omega_2 \\geq \\omega_2 \\geq \\omega_1 \\geq \\omega_1$ as a constraint below."
   ],
   "id": "57b8412760300db7"
  },
  {
   "metadata": {
    "ExecuteTime": {
     "end_time": "2025-10-10T15:13:38.052846Z",
     "start_time": "2025-10-10T15:13:38.037622Z"
    }
   },
   "cell_type": "code",
   "source": [
    "S1  = Array('T', IntSort(), RealSort())   # Times in s\n",
    "S2 = Array('Tp', IntSort(), RealSort())   # Times in s'\n",
    "Lc = Array('Lc', IntSort(), RealSort())   # CTOT slot times\n",
    "\n",
    "ω1, ω2, ω3, ω4 = Reals('ω1 ω2 ω3 ω4')\n",
    "\n",
    "s.add(ω4 >= ω3, ω3 >= ω2, ω2 >= ω1, ω1 >= 0)"
   ],
   "id": "d4f6fe9ae787ddb1",
   "outputs": [],
   "execution_count": 14
  },
  {
   "metadata": {},
   "cell_type": "markdown",
   "source": [
    "Then, define the cost function for CTOT violations, as defined in ([De Maere et al., 2017](https://pubsonline.informs.org/doi/epdf/10.1287/trsc.2016.0733)). This is defined in Z3 as follows, as `C`.\n",
    "\n",
    "$$\n",
    "C(t_i, l_i^c) =\n",
    "\\begin{cases}\n",
    "  0, & \\text{if } t_i \\le l_i^c, \\\\[6pt]\n",
    "  \\omega_1 (t_i - l_i^c) + \\omega_2, & \\text{if } l_i^c < t_i \\le l_i^c + 300, \\\\[6pt]\n",
    "  \\omega_3 (t_i - l_i^c) + \\omega_4, & \\text{if } t_i > l_i^c + 300.\n",
    "\\end{cases}\n",
    "$$"
   ],
   "id": "a2e26ecdcc1b2724"
  },
  {
   "metadata": {
    "ExecuteTime": {
     "end_time": "2025-10-10T15:14:28.455450Z",
     "start_time": "2025-10-10T15:14:28.451397Z"
    }
   },
   "cell_type": "code",
   "source": [
    "def C(t, lc):\n",
    "    return If(t <= lc,\n",
    "              RealVal(0),\n",
    "              If(t <= lc + 300,\n",
    "                 ω1 * (t - lc) + ω2,\n",
    "                 ω3 * (t - lc) + ω4))"
   ],
   "id": "61a25a9b6bda92ca",
   "outputs": [],
   "execution_count": 18
  },
  {
   "metadata": {},
   "cell_type": "markdown",
   "source": [
    "Then we formalize the following lemma into Z3. This states that for all time aircraft $i$, if $i$ is scheduled earlier in $s$ than $s'$ then the CTOT violation cost (for that individual aircraft) is less in $s$ than $s'$. This wrapped in negation, so that Z3 finds a counter example.\n",
    "\n",
    "$$\n",
    "\\neg (\\forall i, s[i] \\leq s'[i] \\implies C(s[i], L[i]) \\leq C(s'[i], L[i]))\n",
    "$$\n",
    "\n"
   ],
   "id": "2b972ae177b88979"
  },
  {
   "metadata": {
    "ExecuteTime": {
     "end_time": "2025-10-10T15:14:29.799065Z",
     "start_time": "2025-10-10T15:14:29.770452Z"
    }
   },
   "cell_type": "code",
   "source": [
    "i = Int('i')\n",
    "seq_lemma = ForAll(\n",
    "    [i],\n",
    "    Implies(\n",
    "        Select(S1, i) <= Select(Tp, i),\n",
    "        C(Select(S1, i), Select(Lc, i)) <= C(Select(Tp, i), Select(Lc, i))\n",
    "    )\n",
    ")\n",
    "s.add(Not(seq_lemma))"
   ],
   "id": "5c49d0c2fb340622",
   "outputs": [],
   "execution_count": 19
  },
  {
   "metadata": {},
   "cell_type": "markdown",
   "source": "Now, check the result, if the lemma holds this should be unsat.",
   "id": "b4e635092b8e48b"
  },
  {
   "metadata": {
    "ExecuteTime": {
     "end_time": "2025-10-10T15:15:28.895522Z",
     "start_time": "2025-10-10T15:15:28.875372Z"
    }
   },
   "cell_type": "code",
   "source": [
    "res = s.check()\n",
    "assert(str(res) == \"unsat\")"
   ],
   "id": "9a84e5f5e300d693",
   "outputs": [],
   "execution_count": 27
  }
 ],
 "metadata": {
  "kernelspec": {
   "display_name": "Python 3",
   "language": "python",
   "name": "python3"
  },
  "language_info": {
   "codemirror_mode": {
    "name": "ipython",
    "version": 2
   },
   "file_extension": ".py",
   "mimetype": "text/x-python",
   "name": "python",
   "nbconvert_exporter": "python",
   "pygments_lexer": "ipython2",
   "version": "2.7.6"
  }
 },
 "nbformat": 4,
 "nbformat_minor": 5
}
