{
 "cells": [
  {
   "cell_type": "code",
   "id": "initial_id",
   "metadata": {
    "collapsed": true,
    "ExecuteTime": {
     "end_time": "2025-10-30T13:28:12.673989Z",
     "start_time": "2025-10-30T13:28:12.657754Z"
    }
   },
   "source": [
    "from z3 import *\n",
    "from itertools import product\n",
    "from functools import reduce\n",
    "\n",
    "s = Solver()\n"
   ],
   "outputs": [],
   "execution_count": 41
  },
  {
   "metadata": {
    "ExecuteTime": {
     "end_time": "2025-10-30T13:28:12.688410Z",
     "start_time": "2025-10-30T13:28:12.678616Z"
    }
   },
   "cell_type": "code",
   "source": [
    "\n",
    "δ = Function('δ', IntSort(), IntSort(), RealSort())\n",
    "R = Function('R', IntSort(), RealSort())\n",
    "B = Function('B', IntSort(), RealSort())\n",
    "\n",
    "# --- aircraft etc as before ---\n",
    "p1, a, p2, b, p3 = Ints('p1 a p2 b p3')\n",
    "ac = [p1, a, p2, b, p3]\n",
    "\n",
    "x, y = Ints('x y')\n",
    "s.add(ForAll([x], R(x) >= 0))\n",
    "s.add(ForAll([x], B(x) >= 0))\n",
    "s.add(ForAll([x], R(x) >= B(x)))\n",
    "s.add(ForAll([x, y], δ(x, y) >= 0))\n",
    "\n",
    "# δ-identical a/b\n",
    "for x_ in ac:\n",
    "    s.add(δ(a, x_) == δ(b, x_))\n",
    "    s.add(δ(x_, a) == δ(x_, b))\n",
    "\n"
   ],
   "id": "65c6ef63291a316a",
   "outputs": [],
   "execution_count": 42
  },
  {
   "metadata": {
    "ExecuteTime": {
     "end_time": "2025-10-30T13:28:12.695033Z",
     "start_time": "2025-10-30T13:28:12.692262Z"
    }
   },
   "cell_type": "code",
   "source": [
    "α = Real(\"α\");\n",
    "s.add(\n",
    "    α == 2\n",
    ")"
   ],
   "id": "f8d192d3e8ee3ac3",
   "outputs": [],
   "execution_count": 43
  },
  {
   "metadata": {
    "ExecuteTime": {
     "end_time": "2025-10-30T13:28:12.695033Z",
     "start_time": "2025-10-30T13:28:12.692262Z"
    }
   },
   "cell_type": "markdown",
   "source": "# Define the Objective Function",
   "id": "e5427a2b2d1870a2"
  },
  {
   "metadata": {
    "ExecuteTime": {
     "end_time": "2025-10-30T13:28:12.695033Z",
     "start_time": "2025-10-30T13:28:12.692262Z"
    }
   },
   "cell_type": "code",
   "outputs": [],
   "execution_count": 43,
   "source": [
    "# Define ω weightings\n",
    "ω1, ω2, ω3, ω4 = Reals('ω1 ω2 ω3 ω4')\n",
    "\n",
    "# Constraints on what ω can be.\n",
    "s.add(ω1 >= 0, ω2 >= 0, ω3 >= 0, ω4 >= 0)\n",
    "s.add(ω1 <= ω3, ω2 <= ω4)\n",
    "\n",
    "def C(t, lc):\n",
    "    return If(t <= lc,\n",
    "              RealVal(0),\n",
    "              If(t <= lc + 300,\n",
    "                 ω1 * (t - lc) + ω2,\n",
    "                 ω3 * (t - lc) + ω4))"
   ],
   "id": "f4a72d11f3e2220b"
  },
  {
   "metadata": {
    "ExecuteTime": {
     "end_time": "2025-10-30T13:28:12.701567Z",
     "start_time": "2025-10-30T13:28:12.698361Z"
    }
   },
   "cell_type": "code",
   "source": [
    "# zmax and T computation\n",
    "def zmax(x, y): return If(x >= y, x, y)\n",
    "def zmax_list(xs):\n",
    "    m = xs[0]\n",
    "    for x in xs[1:]:\n",
    "        m = If(x >= m, x, m)\n",
    "    return m\n",
    "\n",
    "def compute_T(seq):\n",
    "    T = {seq[0]: R(seq[0])}\n",
    "    for i in range(1, len(seq)):\n",
    "        preds = seq[:i]\n",
    "        T[seq[i]] = zmax(R(seq[i]), zmax_list([T[x] + δ(x, seq[i]) for x in preds]))\n",
    "    return T\n"
   ],
   "id": "86127027a6d98a79",
   "outputs": [],
   "execution_count": 44
  },
  {
   "metadata": {
    "ExecuteTime": {
     "end_time": "2025-10-30T13:28:12.717638Z",
     "start_time": "2025-10-30T13:28:12.704749Z"
    }
   },
   "cell_type": "code",
   "source": [
    "\n",
    "S1, S2 = [p1, a, p2, b, p3], [p1, b, p2, a, p3]\n",
    "T1, T2 = compute_T(S1), compute_T(S2)\n",
    "\n",
    "W1 = Real('W1')\n",
    "s.add(W1 > 0)\n",
    "def delay_cost(T):\n",
    "    return Sum(([W1 * (T[x] - B(x) ** α) for x in ac]))\n",
    "\n",
    "D1, D2 = delay_cost(T1), delay_cost(T2)\n",
    "s.add(R(a) <= R(b), B(a) <= B(b))\n",
    "s.add(D1 > D2)\n"
   ],
   "id": "e0c83ea500b473ed",
   "outputs": [],
   "execution_count": 45
  },
  {
   "metadata": {
    "ExecuteTime": {
     "end_time": "2025-10-30T13:28:12.791978Z",
     "start_time": "2025-10-30T13:28:12.720860Z"
    }
   },
   "cell_type": "code",
   "source": [
    "\n",
    "if s.check() == z3.sat:\n",
    "    model = s.model()\n",
    "    print(\"\\nTheorem 4 holds SAT (counterexample found).\\nSatisfying Model:\")\n",
    "    m = s.model()\n",
    "    for d in m.decls():\n",
    "        print(f\" - {d.name()} = {m[d]}\")\n",
    "elif s.check() == z3.unsat:\n",
    "    print(\"\\nUNSAT — Theorem 4 holds: a before b cannot worsen hard-window compliance if s' is feasible.\")\n",
    "else:\n",
    "    print(\"\\nUNKOWN - Theorem 4 exceeds SMT decidable logic.\")\n",
    "\n"
   ],
   "id": "c6e3242a13858283",
   "outputs": [
    {
     "name": "stdout",
     "output_type": "stream",
     "text": [
      "\n",
      "UNSAT — Theorem 4 holds: a before b cannot worsen hard-window compliance if s' is feasible.\n"
     ]
    }
   ],
   "execution_count": 46
  },
  {
   "metadata": {
    "ExecuteTime": {
     "end_time": "2025-10-30T13:28:12.852541Z",
     "start_time": "2025-10-30T13:28:12.796774Z"
    }
   },
   "cell_type": "code",
   "source": [
    "# visualise\n",
    "import matplotlib.pyplot as plt\n",
    "import numpy as np\n",
    "import pandas as pd\n",
    "from matplotlib.table import Table\n",
    "\n",
    "\n",
    "\n",
    "def z3_to_float(val):\n",
    "    if is_rational_value(val):\n",
    "        return val.numerator_as_long() / val.denominator_as_long()\n",
    "    if is_algebraic_value(val):\n",
    "        s = val.approx(20)\n",
    "        if s.endswith(\"?\"): s = s[:-1]\n",
    "        return float(s)\n",
    "    s = str(val)\n",
    "    if s.endswith(\"?\"): s = s[:-1]\n",
    "    if \"/\" in s:\n",
    "        num, den = s.split(\"/\", 1)\n",
    "        return float(num) / float(den)\n",
    "    return float(s)\n",
    "\n",
    "if s.check() == sat:\n",
    "    print(\"SAT, Generating Counterexample...\")\n",
    "    m = s.model()\n",
    "    data = []\n",
    "    for ac in aircraft:\n",
    "        r   = z3_to_float(m.evaluate(R[ac], model_completion=True))\n",
    "        lt  = z3_to_float(m.evaluate(LT[ac], model_completion=True))\n",
    "        t   = z3_to_float(m.evaluate(T[ac], model_completion=True))\n",
    "        tp  = z3_to_float(m.evaluate(T_prime[ac], model_completion=True))\n",
    "        ok_s  = t  <= lt\n",
    "        ok_sp = tp <= lt\n",
    "        data.append({\n",
    "            \"Aircraft\": str(ac),\n",
    "            \"R\": r,\n",
    "            \"LT\": lt,\n",
    "            \"T(S)\": t,\n",
    "            \"T(S′)\": tp,\n",
    "            \"OK(S)\": ok_s,\n",
    "            \"OK(S′)\": ok_sp,\n",
    "        })\n",
    "\n",
    "    df = pd.DataFrame(data)\n",
    "\n",
    "    delta_matrix = np.array([\n",
    "        [z3_to_float(m.evaluate(δ[a, b], model_completion=True)) for b in aircraft]\n",
    "        for a in aircraft\n",
    "    ])\n",
    "    labels = [str(a) for a in aircraft]\n",
    "\n",
    "    fig, (ax_heat, ax_table) = plt.subplots(1, 2, figsize=(10, 4),\n",
    "                                            gridspec_kw={'width_ratios': [1, 1.4]})\n",
    "    plt.subplots_adjust(wspace=0.4)\n",
    "\n",
    "    im = ax_heat.imshow(delta_matrix, cmap=\"viridis\", interpolation=\"nearest\")\n",
    "\n",
    "    ax_heat.set_title(\"Separation Matrix δ(x, y)\")\n",
    "    ax_heat.set_xticks(np.arange(len(labels)))\n",
    "    ax_heat.set_yticks(np.arange(len(labels)))\n",
    "    ax_heat.set_xticklabels(labels)\n",
    "    ax_heat.set_yticklabels(labels)\n",
    "    plt.setp(ax_heat.get_xticklabels(), rotation=45, ha=\"right\", rotation_mode=\"anchor\")\n",
    "\n",
    "    # Draw numeric values on top of heatmap\n",
    "    for i in range(len(labels)):\n",
    "        for j in range(len(labels)):\n",
    "            val = delta_matrix[i, j]\n",
    "            text_color = \"white\" if val < np.max(delta_matrix) / 2 else \"black\"\n",
    "            ax_heat.text(j, i, f\"{val:.2f}\",\n",
    "                         ha=\"center\", va=\"center\", color=text_color, fontsize=9, fontweight='bold')\n",
    "\n",
    "    fig.colorbar(im, ax=ax_heat, fraction=0.046, pad=0.04)\n",
    "\n",
    "    ax_table.axis(\"off\")\n",
    "    tbl = Table(ax_table, bbox=[0, 0, 1, 1])\n",
    "\n",
    "    n_rows, n_cols = len(df), 5\n",
    "    col_labels = [\"Aircraft\", \"R\", \"LT\", \"T(S)\", \"T(S′)\"]\n",
    "    col_widths = [0.2, 0.15, 0.15, 0.25, 0.25]\n",
    "    row_height = 1.0 / (n_rows + 1)\n",
    "\n",
    "    for j, label in enumerate(col_labels):\n",
    "        cell = tbl.add_cell(0, j, width=col_widths[j], height=row_height,\n",
    "                            text=label, loc='center', facecolor='#40466e')\n",
    "        cell.get_text().set_color('w')\n",
    "        cell.get_text().set_weight('bold')\n",
    "\n",
    "    for i, row in enumerate(df.itertuples(), start=1):\n",
    "        vals = [row.Aircraft, f\"{row.R:.3f}\", f\"{row.LT:.3f}\",\n",
    "                f\"{row._4:.3f}\", f\"{row._5:.3f}\"]\n",
    "        for j, val in enumerate(vals):\n",
    "            facecolor = 'white'\n",
    "            if col_labels[j] == \"T(S)\":\n",
    "                facecolor = '#c8e6c9' if row._6 else '#ffcdd2'   # green/red\n",
    "            elif col_labels[j] == \"T(S′)\":\n",
    "                facecolor = '#c8e6c9' if row._7 else '#ffcdd2'\n",
    "            cell = tbl.add_cell(i, j, width=col_widths[j], height=row_height,\n",
    "                                text=val, loc='center', facecolor=facecolor)\n",
    "            cell.get_text().set_color('black')\n",
    "\n",
    "    ax_table.add_table(tbl)\n",
    "    ax_table.set_title(\"Timing and Window Compliance\", fontsize=12, pad=12)\n",
    "\n",
    "    plt.show()"
   ],
   "id": "d46c961baaf5e6c1",
   "outputs": [],
   "execution_count": 47
  }
 ],
 "metadata": {
  "kernelspec": {
   "display_name": "Python 3",
   "language": "python",
   "name": "python3"
  },
  "language_info": {
   "codemirror_mode": {
    "name": "ipython",
    "version": 2
   },
   "file_extension": ".py",
   "mimetype": "text/x-python",
   "name": "python",
   "nbconvert_exporter": "python",
   "pygments_lexer": "ipython2",
   "version": "2.7.6"
  }
 },
 "nbformat": 4,
 "nbformat_minor": 5
}
